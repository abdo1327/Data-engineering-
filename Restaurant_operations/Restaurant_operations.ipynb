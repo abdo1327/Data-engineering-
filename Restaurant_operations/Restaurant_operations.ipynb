{
  "cells": [
    {
      "cell_type": "markdown",
      "source": [
        "## MySQL Connection Setup\n",
        "\n",
        "This code establishes a connection to a MySQL database using `mysql.connector`.\n",
        "\n",
        "1. **Import Library**: Imports `mysql.connector` as `connector`.\n",
        "\n",
        "2. **Connection Parameters**: Specifies user, password, host, and port.\n",
        "\n",
        "3. **Connection Establishment**: Connects to the database using the parameters.\n",
        "\n",
        "4. **Print Statement**: Confirms successful connection definition.\n",
        "\n"
      ],
      "metadata": {
        "id": "6s1LHU9X_uUl"
      },
      "id": "6s1LHU9X_uUl"
    },
    {
      "cell_type": "code",
      "execution_count": null,
      "id": "f940a342",
      "metadata": {
        "id": "f940a342",
        "outputId": "648a5ffa-c964-4069-927a-ff2a7a689f7c"
      },
      "outputs": [
        {
          "name": "stdout",
          "output_type": "stream",
          "text": [
            "connection defined\n"
          ]
        }
      ],
      "source": [
        "import mysql.connector as connector\n",
        "\n",
        "connection = connector.connect(user=\"root\", password=\"147258369\", host=\"localhost\", port=\"3306\")\n",
        "print (\"connection defined\")"
      ]
    },
    {
      "cell_type": "markdown",
      "source": [
        "## Creating a Cursor Object\n",
        "\n",
        "This line of code creates a cursor object to interact with the MySQL database.\n",
        "\n",
        "\n"
      ],
      "metadata": {
        "id": "xOte5FhFAOGh"
      },
      "id": "xOte5FhFAOGh"
    },
    {
      "cell_type": "code",
      "execution_count": null,
      "id": "fb7aa190",
      "metadata": {
        "id": "fb7aa190"
      },
      "outputs": [],
      "source": [
        "cursor = connection.cursor()"
      ]
    },
    {
      "cell_type": "markdown",
      "source": [
        "## Database Operations\n",
        "\n",
        "These lines execute SQL statements to manage the database.\n",
        "\n",
        "1. **Drop Database (If Exists)**:\n",
        "    - Drops the database \"TheRestaurant\" if it exists.\n",
        "\n",
        "2. **Create Database**:\n",
        "    - Creates a database named \"TheRestaurant\".\n",
        "\n"
      ],
      "metadata": {
        "id": "17dPBJ8UAbmx"
      },
      "id": "17dPBJ8UAbmx"
    },
    {
      "cell_type": "code",
      "execution_count": null,
      "id": "ef0f7a8c",
      "metadata": {
        "id": "ef0f7a8c"
      },
      "outputs": [],
      "source": [
        "\n",
        "cursor.execute(\"DROP DATABASE IF EXISTS TheRestaurant;\")\n",
        "cursor.execute(\"CREATE DATABASE TheRestaurant\")\n"
      ]
    },
    {
      "cell_type": "markdown",
      "source": [
        "## Showing Databases\n",
        "\n",
        "This code fetches and prints the list of databases.\n",
        "\n",
        "1. **Execute Query**:\n",
        "    - Executes an SQL query to retrieve databases.\n",
        "\n",
        "2. **Fetch and Print**:\n",
        "    - Fetches and prints the list of databases.\n",
        "\n"
      ],
      "metadata": {
        "id": "SG0R-RsuM01j"
      },
      "id": "SG0R-RsuM01j"
    },
    {
      "cell_type": "code",
      "execution_count": null,
      "id": "1942d74a",
      "metadata": {
        "id": "1942d74a",
        "outputId": "fae50446-fa34-4df9-aa9a-09484ca2817b"
      },
      "outputs": [
        {
          "name": "stdout",
          "output_type": "stream",
          "text": [
            "List of databases:\n",
            "information_schema\n",
            "littellemondb\n",
            "little_lemon_db\n",
            "mydb\n",
            "mysql\n",
            "performance_schema\n",
            "sys\n",
            "test\n",
            "therestaurant\n",
            "week2tasks\n"
          ]
        }
      ],
      "source": [
        "# Execute the SQL query to show databases\n",
        "cursor.execute(\"SHOW DATABASES\")\n",
        "\n",
        "# Fetch all rows (databases) from the result set\n",
        "databases = cursor.fetchall()\n",
        "\n",
        "# Print the list of databases\n",
        "print(\"List of databases:\")\n",
        "for database in databases:\n",
        "    print(database[0])"
      ]
    },
    {
      "cell_type": "code",
      "execution_count": null,
      "id": "d1ae944c",
      "metadata": {
        "id": "d1ae944c"
      },
      "outputs": [],
      "source": [
        "cursor.close()\n",
        "connection.close()"
      ]
    },
    {
      "cell_type": "markdown",
      "source": [
        "## Closing and Reconnecting\n",
        "\n",
        "This code closes the current cursor and connection, then establishes a new connection to the database \"TheRestaurant\".\n",
        "\n",
        "1. **Close Cursor and Connection**:\n",
        "    - Closes the cursor and connection to the previous database.\n",
        "\n",
        "2. **Establish New Connection**:\n",
        "\n",
        "    - Establishes a new connection to the MySQL server with updated parameters, including the database \"TheRestaurant\".\n",
        "\n",
        "\n"
      ],
      "metadata": {
        "id": "LV7_Lt3-NJ-y"
      },
      "id": "LV7_Lt3-NJ-y"
    },
    {
      "cell_type": "code",
      "execution_count": null,
      "id": "ec7754ec",
      "metadata": {
        "id": "ec7754ec",
        "outputId": "1db87bdf-a78c-449d-ae7e-5bcf8bf3d17b"
      },
      "outputs": [
        {
          "name": "stdout",
          "output_type": "stream",
          "text": [
            "connection2 defined\n"
          ]
        }
      ],
      "source": [
        "connection2 = connector.connect(user=\"root\", password=\"147258369\", host=\"localhost\", port=\"3306\",database=\"TheRestaurant\")\n",
        "print (\"connection2 defined\")"
      ]
    },
    {
      "cell_type": "markdown",
      "source": [
        "## Creating Tables in TheRestaurant Database\n",
        "\n",
        "This code creates tables for menus, menu items, customers, and orders in the \"TheRestaurant\" database.\n"
      ],
      "metadata": {
        "id": "7j0vHrxvNhzV"
      },
      "id": "7j0vHrxvNhzV"
    },
    {
      "cell_type": "code",
      "execution_count": null,
      "id": "ccef1e11",
      "metadata": {
        "id": "ccef1e11"
      },
      "outputs": [],
      "source": [
        "cursor = connection2.cursor()\n",
        "\n",
        "# Define the SQL commands to create tables\n",
        "sql_commands = [\n",
        "    \"\"\"\n",
        "    CREATE TABLE Menus (\n",
        "        MenuID INT AUTO_INCREMENT PRIMARY KEY,\n",
        "        MenuName VARCHAR(255) NOT NULL,\n",
        "        MenuItemID INT\n",
        "    )\n",
        "    \"\"\",\n",
        "    \"\"\"\n",
        "    CREATE TABLE MenuItems (\n",
        "        MenuItemID INT AUTO_INCREMENT PRIMARY KEY,\n",
        "        MenuID INT,\n",
        "        ItemName VARCHAR(255) NOT NULL,\n",
        "        Price DECIMAL(10, 2) NOT NULL,\n",
        "        FOREIGN KEY (MenuID) REFERENCES Menus(MenuID)\n",
        "    )\n",
        "    \"\"\",\n",
        "    \"\"\"\n",
        "    CREATE TABLE Customers (\n",
        "        CustomerID INT AUTO_INCREMENT PRIMARY KEY,\n",
        "        Fullname VARCHAR(255) NOT NULL,\n",
        "        Contact VARCHAR(255) NOT NULL,\n",
        "        Email VARCHAR(255) NOT NULL\n",
        "    )\n",
        "    \"\"\",\n",
        "    \"\"\"\n",
        "CREATE TABLE Orders (\n",
        "    OrderID INT AUTO_INCREMENT PRIMARY KEY,\n",
        "    CustomerID INT,\n",
        "    Totalprice DECIMAL(10, 2) NOT NULL,\n",
        "    MenuID INT,\n",
        "    Quantity INT NOT NULL DEFAULT 1,\n",
        "    FOREIGN KEY (CustomerID) REFERENCES Customers(CustomerID),\n",
        "    FOREIGN KEY (MenuID) REFERENCES Menus(MenuID)\n",
        ");\n",
        "\n",
        "    \"\"\"\n",
        "]\n",
        "\n",
        "\n",
        "\n",
        "# Execute each SQL command\n",
        "for sql_command in sql_commands:\n",
        "    cursor.execute(sql_command)\n",
        "\n",
        "# Commit the changes\n",
        "connection2.commit()\n"
      ]
    },
    {
      "cell_type": "markdown",
      "source": [
        "## Retrieving Tables in TheRestaurant Database\n",
        "\n",
        "This section of code executes a SQL command to fetch all tables from the \"TheRestaurant\" database. It then prints the list of tables retrieved.\n"
      ],
      "metadata": {
        "id": "OtFY2gMhNqmF"
      },
      "id": "OtFY2gMhNqmF"
    },
    {
      "cell_type": "code",
      "execution_count": null,
      "id": "53444334",
      "metadata": {
        "id": "53444334",
        "outputId": "776c8151-bfaa-4a63-d757-5774564fdd09"
      },
      "outputs": [
        {
          "name": "stdout",
          "output_type": "stream",
          "text": [
            "Tables in TheRestaurant database:\n",
            "customers\n",
            "menuitems\n",
            "menus\n",
            "orders\n"
          ]
        }
      ],
      "source": [
        "cursor.execute(\"SHOW TABLES\")\n",
        "\n",
        "# Fetch all rows (tables) from the result set\n",
        "tables = cursor.fetchall()\n",
        "\n",
        "# Print the list of tables\n",
        "print(\"Tables in TheRestaurant database:\")\n",
        "for table in tables:\n",
        "    print(table[0])\n"
      ]
    },
    {
      "cell_type": "markdown",
      "source": [
        "## Inserting Data into Tables\n",
        "\n",
        "This code inserts data into various tables within the \"TheRestaurant\" database.\n",
        "\n",
        "- **Menus Table**:\n",
        "  - Inserts menu names along with corresponding menu item IDs.\n",
        "\n",
        "- **MenuItems Table**:\n",
        "  - Inserts menu IDs, item names, and prices.\n",
        "\n",
        "- **Customers Table**:\n",
        "  - Inserts customer details: full name, contact, and email.\n",
        "\n",
        "- **Orders Table**:\n",
        "  - Inserts order details: customer ID, total price, quantity, and menu ID.\n",
        "\n",
        "After all data insertion operations, the changes are committed to the database.\n"
      ],
      "metadata": {
        "id": "lIvA2_ByNxAb"
      },
      "id": "lIvA2_ByNxAb"
    },
    {
      "cell_type": "code",
      "execution_count": null,
      "id": "027a09e6",
      "metadata": {
        "id": "027a09e6"
      },
      "outputs": [],
      "source": [
        "# Insert data into the Menus table\n",
        "menus_data = [\n",
        "    (\"Menu 1\", 1),\n",
        "    (\"Menu 2\", 2),\n",
        "    (\"Menu 3\", 3),\n",
        "    (\"Menu 4\", 4),\n",
        "    (\"Menu 5\", 5)\n",
        "]\n",
        "menu_insert_query = \"INSERT INTO Menus (MenuName, MenuItemID) VALUES (%s, %s)\"\n",
        "cursor.executemany(menu_insert_query, menus_data)\n",
        "\n",
        "# Insert data into the MenuItems table\n",
        "menu_items_data = [\n",
        "    (1, \"Item 1\", 10.99),\n",
        "    (1, \"Item 2\", 8.99),\n",
        "    (2, \"Item 3\", 12.99),\n",
        "    (2, \"Item 4\", 9.99),\n",
        "    (3, \"Item 5\", 11.99),\n",
        "    (3, \"Item 6\", 13.99),\n",
        "    (4, \"Item 7\", 14.99),\n",
        "    (4, \"Item 8\", 15.99),\n",
        "    (5, \"Item 9\", 16.99),\n",
        "    (5, \"Item 10\", 17.99)\n",
        "]\n",
        "menu_items_insert_query = \"INSERT INTO MenuItems (MenuID, ItemName, Price) VALUES (%s, %s, %s)\"\n",
        "cursor.executemany(menu_items_insert_query, menu_items_data)\n",
        "\n",
        "# Insert data into the Customers table\n",
        "customers_data = [\n",
        "    (\"John Doe\", \"1234567890\", \"john@example.com\"),\n",
        "    (\"Jane Smith\", \"9876543210\", \"jane@example.com\"),\n",
        "    (\"Michael Johnson\", \"5555555555\", \"michael@example.com\"),\n",
        "    (\"Emily Brown\", \"9999999999\", \"emily@example.com\"),\n",
        "    (\"Daniel Williams\", \"7777777777\", \"daniel@example.com\")\n",
        "]\n",
        "customers_insert_query = \"INSERT INTO Customers (Fullname, Contact, Email) VALUES (%s, %s, %s)\"\n",
        "cursor.executemany(customers_insert_query, customers_data)\n",
        "\n",
        "# Insert data into the Orders table\n",
        "orders_data = [\n",
        " (1, 23.99, 1, 2),\n",
        "(2, 35.99, 2, 3),\n",
        "(3, 45.99, 3, 4),\n",
        "(4, 27.99, 4, 2),\n",
        "(5, 39.99, 5, 3)\n",
        "]\n",
        "orders_insert_query = \"INSERT INTO Orders (CustomerID, Totalprice,Quantity ,MenuID) VALUES (%s, %s, %s,%s)\"\n",
        "cursor.executemany(orders_insert_query, orders_data)\n",
        "\n",
        "# Commit the changes\n",
        "connection2.commit()\n"
      ]
    },
    {
      "cell_type": "markdown",
      "source": [
        "## Creating and Inserting Data into Bookings Table\n",
        "\n",
        "This code defines SQL commands to create and insert data into the \"Bookings\" table within the \"TheRestaurant\" database.\n",
        "\n",
        "- **Create Bookings Table**:\n",
        "  - Defines the structure of the \"Bookings\" table with columns for BookingID, BookingDate, TableNumber, and CustomerID.\n",
        "\n",
        "- **Insert Bookings Data**:\n",
        "  - Inserts booking records with booking dates, table numbers, and corresponding customer IDs.\n",
        "\n",
        "After executing these commands, the changes are committed to the database.\n"
      ],
      "metadata": {
        "id": "mvHELN7xN-9r"
      },
      "id": "mvHELN7xN-9r"
    },
    {
      "cell_type": "code",
      "execution_count": null,
      "id": "298c1c30",
      "metadata": {
        "id": "298c1c30"
      },
      "outputs": [],
      "source": [
        "\n",
        "# Define SQL commands to create the Bookings table\n",
        "create_bookings_table_query = \"\"\"\n",
        "CREATE TABLE Bookings (\n",
        "    BookingID  INT AUTO_INCREMENT PRIMARY KEY,\n",
        "    BookingDate DATE,\n",
        "    TableNumber INT,\n",
        "    CustomerID INT\n",
        ")\n",
        "\"\"\"\n",
        "\n",
        "# Define SQL command to insert data into the Bookings table\n",
        "insert_bookings_data_query = \"\"\"\n",
        "INSERT INTO Bookings (BookingID, BookingDate, TableNumber, CustomerID)\n",
        "VALUES\n",
        "(1, '2022-10-10', 5, 1),\n",
        "(2, '2022-11-12', 3, 3),\n",
        "(3, '2022-10-11', 2, 2),\n",
        "(4, '2022-10-13', 2, 1)\n",
        "\"\"\"\n",
        "\n",
        "# Execute SQL commands to create the Bookings table and insert data\n",
        "cursor.execute(create_bookings_table_query)\n",
        "cursor.execute(insert_bookings_data_query)\n",
        "\n",
        "# Commit the changes\n",
        "connection2.commit()"
      ]
    },
    {
      "cell_type": "markdown",
      "source": [
        "## Retrieving Orders Data\n",
        "\n",
        "This code executes an SQL query to select all rows from the \"Orders\" table in the \"TheRestaurant\" database. It then fetches and prints all rows from the result set.\n",
        "\n",
        "- **SQL Query**:\n",
        "  - Selects all columns from the \"Orders\" table.\n",
        "\n",
        "- **Execution**:\n",
        "  - Executes the SQL query using the cursor.\n",
        "\n",
        "- **Fetching Results**:\n",
        "  - Fetches all rows from the result set.\n",
        "\n",
        "- **Printing Results**:\n",
        "  - Prints each order record retrieved from the database.\n",
        "\n"
      ],
      "metadata": {
        "id": "BgJhFFTwOC_I"
      },
      "id": "BgJhFFTwOC_I"
    },
    {
      "cell_type": "code",
      "execution_count": null,
      "id": "3f0564dc",
      "metadata": {
        "id": "3f0564dc",
        "outputId": "c84178af-94b4-4062-88d4-b6cf6120374f"
      },
      "outputs": [
        {
          "name": "stdout",
          "output_type": "stream",
          "text": [
            "(1, 1, Decimal('23.99'), 2, 1)\n",
            "(2, 2, Decimal('35.99'), 3, 2)\n",
            "(3, 3, Decimal('45.99'), 4, 3)\n",
            "(4, 4, Decimal('27.99'), 2, 4)\n",
            "(5, 5, Decimal('39.99'), 3, 5)\n"
          ]
        }
      ],
      "source": [
        "select_orders_query = \"SELECT * FROM Orders\"\n",
        "\n",
        "# Execute the SQL query\n",
        "cursor.execute(select_orders_query)\n",
        "\n",
        "# Fetch all rows from the result set\n",
        "orders = cursor.fetchall()\n",
        "\n",
        "# Print the results\n",
        "for order in orders:\n",
        "    print(order)\n"
      ]
    },
    {
      "cell_type": "markdown",
      "source": [
        "## Creating OrdersView View\n",
        "\n",
        "This code creates a view named \"OrdersView\" in the \"TheRestaurant\" database.\n",
        "\n",
        "- **View Definition**:\n",
        "  - Defines a view that selects specific columns (OrderID, Quantity, Totalprice) from the \"Orders\" table.\n",
        "  - Includes a filter condition to select only rows where the quantity is greater than 2.\n",
        "\n",
        "After executing the command, the changes are committed to the database.\n"
      ],
      "metadata": {
        "id": "3PQpCT1DOR3m"
      },
      "id": "3PQpCT1DOR3m"
    },
    {
      "cell_type": "code",
      "execution_count": null,
      "id": "d5c81145",
      "metadata": {
        "id": "d5c81145"
      },
      "outputs": [],
      "source": [
        "create_orders_view_query = \"\"\"\n",
        "CREATE VIEW OrdersView AS\n",
        "SELECT OrderID, Quantity, Totalprice\n",
        "FROM Orders\n",
        "WHERE Quantity > 2\n",
        "\"\"\"\n",
        "cursor.execute(create_orders_view_query)\n",
        "connection2.commit()"
      ]
    },
    {
      "cell_type": "markdown",
      "source": [
        "## Retrieving Data from OrdersView\n",
        "\n",
        "This code executes an SQL query to select all rows from the \"OrdersView\" view in the \"TheRestaurant\" database. It then fetches and prints all rows from the result set.\n",
        "\n",
        "- **SQL Query**:\n",
        "  - Selects all columns from the \"OrdersView\" view.\n",
        "\n",
        "- **Execution**:\n",
        "  - Executes the SQL query using the cursor.\n",
        "\n",
        "- **Fetching Results**:\n",
        "  - Fetches all rows from the result set.\n",
        "\n",
        "- **Printing Results**:\n",
        "  - Prints each record retrieved from the view.\n"
      ],
      "metadata": {
        "id": "-CRXffTzOm9m"
      },
      "id": "-CRXffTzOm9m"
    },
    {
      "cell_type": "code",
      "execution_count": null,
      "id": "6954f1b3",
      "metadata": {
        "id": "6954f1b3",
        "outputId": "ae981a4f-2511-459b-e200-17f545f0b54f"
      },
      "outputs": [
        {
          "name": "stdout",
          "output_type": "stream",
          "text": [
            "(3, 3, Decimal('45.99'))\n",
            "(4, 4, Decimal('27.99'))\n",
            "(5, 5, Decimal('39.99'))\n"
          ]
        }
      ],
      "source": [
        "select_view_query = \"Select * from OrdersView;\"\n",
        "\n",
        "# Execute the SQL query\n",
        "cursor.execute(select_view_query)\n",
        "\n",
        "# Fetch all rows from the result set\n",
        "orders = cursor.fetchall()\n",
        "\n",
        "# Print the results\n",
        "for order in orders:\n",
        "    print(order)\n"
      ]
    },
    {
      "cell_type": "markdown",
      "source": [
        "## Retrieving Data with Joins\n",
        "\n",
        "This SQL query selects specific information from multiple tables by performing joins. It retrieves details about customers, orders, menus, and menu items, focusing on orders with a total price greater than $29.\n",
        "\n",
        "- **Query Details**:\n",
        "  - Joins the \"Orders\", \"Customers\", \"Menus\", and \"MenuItems\" tables.\n",
        "  - Selects columns for CustomerID, Fullname, OrderID, Totalprice (as Cost), MenuName, CourseName (from MenuItems), and StarterName (from MenuItems).\n",
        "  - Includes a condition to filter orders with a total price greater than $29.\n",
        "  - Orders the results by total price.\n",
        "\n",
        "After executing the query, the results are fetched and printed.\n"
      ],
      "metadata": {
        "id": "WUNGPHNXOx4i"
      },
      "id": "WUNGPHNXOx4i"
    },
    {
      "cell_type": "code",
      "execution_count": null,
      "id": "daeae1ef",
      "metadata": {
        "id": "daeae1ef",
        "outputId": "071761e9-d81e-4f18-a97c-80a1d7012186"
      },
      "outputs": [
        {
          "name": "stdout",
          "output_type": "stream",
          "text": [
            "(2, 'Jane Smith', 2, Decimal('35.99'), 'Menu 3', 'Item 5', 'Item 5')\n",
            "(2, 'Jane Smith', 2, Decimal('35.99'), 'Menu 3', 'Item 5', 'Item 6')\n",
            "(2, 'Jane Smith', 2, Decimal('35.99'), 'Menu 3', 'Item 6', 'Item 5')\n",
            "(2, 'Jane Smith', 2, Decimal('35.99'), 'Menu 3', 'Item 6', 'Item 6')\n",
            "(5, 'Daniel Williams', 5, Decimal('39.99'), 'Menu 3', 'Item 5', 'Item 5')\n",
            "(5, 'Daniel Williams', 5, Decimal('39.99'), 'Menu 3', 'Item 5', 'Item 6')\n",
            "(5, 'Daniel Williams', 5, Decimal('39.99'), 'Menu 3', 'Item 6', 'Item 5')\n",
            "(5, 'Daniel Williams', 5, Decimal('39.99'), 'Menu 3', 'Item 6', 'Item 6')\n",
            "(3, 'Michael Johnson', 3, Decimal('45.99'), 'Menu 4', 'Item 7', 'Item 7')\n",
            "(3, 'Michael Johnson', 3, Decimal('45.99'), 'Menu 4', 'Item 7', 'Item 8')\n",
            "(3, 'Michael Johnson', 3, Decimal('45.99'), 'Menu 4', 'Item 8', 'Item 7')\n",
            "(3, 'Michael Johnson', 3, Decimal('45.99'), 'Menu 4', 'Item 8', 'Item 8')\n"
          ]
        }
      ],
      "source": [
        "join_select = \"\"\"\n",
        "SELECT\n",
        "    c.CustomerID,\n",
        "    c.Fullname,\n",
        "    o.OrderID,\n",
        "    o.Totalprice AS Cost,\n",
        "    m.MenuName,\n",
        "    mi.ItemName AS CourseName,\n",
        "    mi2.ItemName AS StarterName\n",
        "FROM\n",
        "    Orders o\n",
        "JOIN\n",
        "    Customers c ON o.CustomerID = c.CustomerID\n",
        "JOIN\n",
        "    Menus m ON o.MenuID = m.MenuID\n",
        "JOIN\n",
        "    MenuItems mi ON m.MenuID = mi.MenuID\n",
        "JOIN\n",
        "    MenuItems mi2 ON m.MenuID = mi2.MenuID\n",
        "WHERE\n",
        "    o.Totalprice > 29\n",
        "ORDER BY\n",
        "    o.Totalprice;\n",
        "\"\"\"\n",
        "\n",
        "# Execute the SQL query\n",
        "cursor.execute(join_select)\n",
        "\n",
        "# Fetch all rows from the result set\n",
        "join_results = cursor.fetchall()\n",
        "\n",
        "# Print the results\n",
        "for row in join_results:\n",
        "    print(row)\n"
      ]
    },
    {
      "cell_type": "markdown",
      "source": [
        "## Retrieving Menu Items\n",
        "\n",
        "This SQL query selects menu item names from the \"MenuItems\" table based on certain criteria.\n",
        "\n",
        "- **Query Details**:\n",
        "  - Selects the \"ItemName\" column from the \"MenuItems\" table.\n",
        "  - Uses a subquery to filter menu items by checking if their \"MenuItemID\" is present in the set of \"MenuID\" values from orders where the quantity is greater than 2.\n",
        "\n",
        "After executing the query, the results are fetched and printed, displaying the menu item names that meet the specified conditions.\n"
      ],
      "metadata": {
        "id": "xIltS0B2O1xv"
      },
      "id": "xIltS0B2O1xv"
    },
    {
      "cell_type": "code",
      "execution_count": null,
      "id": "fcbe2c9d",
      "metadata": {
        "scrolled": true,
        "id": "fcbe2c9d",
        "outputId": "fa9db28d-bd19-4ec9-db0c-244ee02b6478"
      },
      "outputs": [
        {
          "name": "stdout",
          "output_type": "stream",
          "text": [
            "Item 4\n",
            "Item 2\n",
            "Item 3\n"
          ]
        }
      ],
      "source": [
        "sql_query = \"\"\"\n",
        "SELECT\n",
        "    mi.ItemName\n",
        "FROM\n",
        "    MenuItems mi\n",
        "WHERE\n",
        "    mi.MenuItemID IN (\n",
        "        SELECT\n",
        "            o.MenuID\n",
        "        FROM\n",
        "            Orders o\n",
        "        WHERE\n",
        "            o.Quantity > 2\n",
        "    );\n",
        "\"\"\"\n",
        "\n",
        "# Execute the SQL query\n",
        "cursor.execute(sql_query)\n",
        "\n",
        "# Fetch all rows from the result set\n",
        "results = cursor.fetchall()\n",
        "\n",
        "# Print the menu items\n",
        "for row in results:\n",
        "    print(row[0])"
      ]
    },
    {
      "cell_type": "markdown",
      "source": [
        "## Creating Stored Procedures\n",
        "\n",
        "This code creates two stored procedures in the \"TheRestaurant\" database.\n",
        "\n",
        "1. **GetMaxQuantity Procedure**:\n",
        "   - Defines a procedure named \"GetMaxQuantity\" that retrieves the maximum quantity ordered from the \"Orders\" table.\n",
        "\n",
        "2. **GetOrderDetail Procedure**:\n",
        "   - Defines a procedure named \"GetOrderDetail\" that takes a customer ID as input.\n",
        "   - Prepares a dynamic SQL statement to select order details for the given customer ID.\n",
        "   - Executes the prepared statement using the provided customer ID.\n",
        "   - Deallocates the prepared statement after execution.\n",
        "\n",
        "After executing each SQL statement to create the stored procedures, the changes are committed to the database.\n"
      ],
      "metadata": {
        "id": "X3pp0miMO8eH"
      },
      "id": "X3pp0miMO8eH"
    },
    {
      "cell_type": "markdown",
      "source": [
        "## Creating Stored Procedures\n",
        "\n",
        "This code creates two stored procedures in the \"TheRestaurant\" database.\n",
        "\n",
        "1. **GetMaxQuantity Procedure**:\n",
        "   - Retrieves the maximum quantity ordered from the \"Orders\" table.\n",
        "\n",
        "2. **GetOrderDetail Procedure**:\n",
        "   - Retrieves order details for a given customer ID.\n",
        "\n",
        "Both procedures are defined with specific functionalities using SQL commands. After execution, the changes are committed to the database.\n"
      ],
      "metadata": {
        "id": "ARbWpOSEPB2X"
      },
      "id": "ARbWpOSEPB2X"
    },
    {
      "cell_type": "code",
      "execution_count": null,
      "id": "341e92ba",
      "metadata": {
        "id": "341e92ba"
      },
      "outputs": [],
      "source": [
        "sql_statements = [\n",
        "    \"\"\"\n",
        "    CREATE PROCEDURE GetMaxQuantity()\n",
        "    BEGIN\n",
        "        SELECT MAX(Quantity) AS MaxOrderedQuantity\n",
        "        FROM Orders;\n",
        "    END\n",
        "    \"\"\",\n",
        "    \"\"\"\n",
        "    CREATE PROCEDURE GetOrderDetail(IN CustomerID INT)\n",
        "    BEGIN\n",
        "        PREPARE stmt FROM\n",
        "        'SELECT OrderID, Quantity, Totalprice\n",
        "        FROM Orders\n",
        "        WHERE CustomerID = ?';\n",
        "\n",
        "        SET @customer_id = CustomerID;\n",
        "        EXECUTE stmt USING @customer_id;\n",
        "        DEALLOCATE PREPARE stmt;\n",
        "    END\n",
        "    \"\"\"\n",
        "]\n",
        "\n",
        "# Execute each SQL statement to create the stored procedures\n",
        "for sql_statement in sql_statements:\n",
        "    cursor.execute(sql_statement)\n",
        "\n",
        "# Commit the transaction\n",
        "connection2.commit()"
      ]
    },
    {
      "cell_type": "markdown",
      "source": [
        "## Calling Stored Procedures\n",
        "\n",
        "This code calls two stored procedures in the \"TheRestaurant\" database and fetches the results.\n",
        "\n",
        "1. **GetMaxQuantity Procedure**:\n",
        "   - Calls the \"GetMaxQuantity\" stored procedure.\n",
        "   - Fetches the result, which represents the maximum ordered quantity.\n",
        "   - Prints the maximum ordered quantity.\n",
        "\n",
        "2. **GetOrderDetail Procedure**:\n",
        "   - Calls the \"GetOrderDetail\" stored procedure with a specific customer ID as input.\n",
        "   - Fetches the result, which represents order details for the given customer ID.\n",
        "   - Prints the order details retrieved from the stored procedure.\n",
        "\n",
        "The code demonstrates the execution and retrieval of results from stored procedures.\n"
      ],
      "metadata": {
        "id": "SYg3STMoPGTj"
      },
      "id": "SYg3STMoPGTj"
    },
    {
      "cell_type": "code",
      "execution_count": null,
      "id": "1aa8236b",
      "metadata": {
        "id": "1aa8236b",
        "outputId": "9b901b6a-296a-4d2e-814e-e879fcfbda72"
      },
      "outputs": [
        {
          "name": "stdout",
          "output_type": "stream",
          "text": [
            "Maximum Ordered Quantity: 5\n",
            "(1, 1, Decimal('23.99'))\n"
          ]
        }
      ],
      "source": [
        "# Call the GetMaxQuantity stored procedure\n",
        "cursor.callproc(\"GetMaxQuantity\")\n",
        "\n",
        "# Fetch the result from the stored procedure\n",
        "for result in cursor.stored_results():\n",
        "    max_quantity_result = result.fetchall()\n",
        "    print(\"Maximum Ordered Quantity:\", max_quantity_result[0][0])\n",
        "\n",
        "# Execute the GetOrderDetail stored procedure\n",
        "customer_id = 1\n",
        "cursor.callproc(\"GetOrderDetail\", [customer_id])\n",
        "\n",
        "# Fetch the result from the stored procedure\n",
        "for result in cursor.stored_results():\n",
        "    order_detail_result = result.fetchall()\n",
        "    for order in order_detail_result:\n",
        "        print(order)\n"
      ]
    },
    {
      "cell_type": "markdown",
      "source": [
        "## Creating CancelOrder Stored Procedure\n",
        "\n",
        "This code defines and creates a stored procedure named \"CancelOrder\" in the \"TheRestaurant\" database.\n",
        "\n",
        "- **Procedure Details**:\n",
        "  - Takes an order ID as input.\n",
        "  - Deletes the order from the \"Orders\" table based on the provided order ID.\n",
        "\n",
        "After executing the SQL statement to create the stored procedure, the changes are committed to the database.\n"
      ],
      "metadata": {
        "id": "sK9RKTmbPMOb"
      },
      "id": "sK9RKTmbPMOb"
    },
    {
      "cell_type": "code",
      "execution_count": null,
      "id": "6066b63b",
      "metadata": {
        "id": "6066b63b"
      },
      "outputs": [],
      "source": [
        "# Define the SQL statement for creating the stored procedure\n",
        "cancel_order_procedure = \"\"\"\n",
        "CREATE PROCEDURE CancelOrder(IN order_id INT)\n",
        "BEGIN\n",
        "    DELETE FROM Orders WHERE OrderID = order_id;\n",
        "END\n",
        "\"\"\"\n",
        "\n",
        "# Execute the SQL statement to create the stored procedure\n",
        "cursor.execute(cancel_order_procedure)\n",
        "\n",
        "# Commit the transaction\n",
        "connection2.commit()"
      ]
    },
    {
      "cell_type": "markdown",
      "source": [
        "## Canceling an Order\n",
        "\n",
        "This code cancels an order by calling the \"CancelOrder\" stored procedure with a specified order ID.\n",
        "\n",
        "- **Order ID Specification**:\n",
        "  - Specifies the order ID of the order to be canceled (e.g., `order_id = 1`).\n",
        "\n",
        "- **Calling the Procedure**:\n",
        "  - Defines an SQL statement to call the \"CancelOrder\" procedure with the specified order ID.\n",
        "  - Executes the SQL statement to call the procedure, passing the order ID as a parameter.\n",
        "\n",
        "- **Committing the Transaction**:\n",
        "  - Commits the transaction to make the cancellation permanent.\n",
        "\n",
        "Finally, it prints a confirmation message indicating the order ID that has been canceled.\n"
      ],
      "metadata": {
        "id": "Ein9L3aJPqse"
      },
      "id": "Ein9L3aJPqse"
    },
    {
      "cell_type": "code",
      "execution_count": null,
      "id": "f2dd926e",
      "metadata": {
        "id": "f2dd926e",
        "outputId": "08774569-e385-44cb-b6da-03ef96498a45"
      },
      "outputs": [
        {
          "name": "stdout",
          "output_type": "stream",
          "text": [
            "order ID canceled: 1\n"
          ]
        }
      ],
      "source": [
        "# Define the order_id for the order you want to cancel\n",
        "order_id = 1  # Example: specify the order_id here\n",
        "\n",
        "# Define the SQL statement to call the CancelOrder procedure\n",
        "cancel_order_call = \"\"\"\n",
        "CALL CancelOrder(%s)\n",
        "\"\"\"\n",
        "\n",
        "# Execute the SQL statement to call the CancelOrder procedure\n",
        "cursor.execute(cancel_order_call, (order_id,))\n",
        "\n",
        "# Commit the transaction\n",
        "connection2.commit()\n",
        "print(\"order ID canceled:\", order_id)\n"
      ]
    },
    {
      "cell_type": "markdown",
      "source": [
        "## Creating CheckBooking Stored Procedure\n",
        "\n",
        "This code creates a stored procedure named \"CheckBooking\" in the \"TheRestaurant\" database.\n",
        "\n",
        "- **Procedure Details**:\n",
        "  - Takes booking date and table number as input parameters.\n",
        "  - Checks if the specified table is booked on the given date.\n",
        "  - Returns the status of the table (either 'Booked' or 'Available').\n",
        "\n",
        "After executing the SQL statement to create the stored procedure, the changes are committed to the database.\n"
      ],
      "metadata": {
        "id": "N97lxEhNPv4V"
      },
      "id": "N97lxEhNPv4V"
    },
    {
      "cell_type": "code",
      "execution_count": null,
      "id": "f40fa606",
      "metadata": {
        "id": "f40fa606"
      },
      "outputs": [],
      "source": [
        "CheckBooking=\"\"\"\n",
        "CREATE PROCEDURE CheckBooking(IN booking_date DATE, IN table_number INT)\n",
        "BEGIN\n",
        "    DECLARE table_status VARCHAR(10);\n",
        "\n",
        "    -- Check if the table is already booked on the specified date\n",
        "    SELECT CASE\n",
        "        WHEN EXISTS (\n",
        "            SELECT * FROM Bookings\n",
        "            WHERE BookingDate = booking_date AND TableNumber = table_number\n",
        "        ) THEN 'Booked'\n",
        "        ELSE 'Available'\n",
        "    END INTO table_status;\n",
        "\n",
        "    -- Return the status of the table\n",
        "    SELECT table_status AS TableStatus;\n",
        "END \"\"\"\n",
        "\n",
        "# Execute each SQL statement to create the stored procedures\n",
        "cursor.execute(CheckBooking)\n",
        "\n",
        "# Commit the transaction\n",
        "connection2.commit()"
      ]
    },
    {
      "cell_type": "markdown",
      "source": [
        "## Checking Booking Status\n",
        "\n",
        "This code calls the \"CheckBooking\" stored procedure with provided parameters to check the status of a table.\n",
        "\n",
        "- **Procedure Call**:\n",
        "  - Calls the \"CheckBooking\" stored procedure with a booking date of '2022-11-12' and table number 3 as input parameters.\n",
        "\n",
        "- **Fetching Result**:\n",
        "  - Fetches the result from the stored procedure call.\n",
        "  - Prints the table status retrieved from the stored procedure.\n",
        "\n",
        "This process checks whether the specified table is booked on the given date and prints its status.\n"
      ],
      "metadata": {
        "id": "xkMCxtLlPyw_"
      },
      "id": "xkMCxtLlPyw_"
    },
    {
      "cell_type": "code",
      "execution_count": null,
      "id": "3b6c4e4d",
      "metadata": {
        "id": "3b6c4e4d",
        "outputId": "eec907a0-0684-4d4a-c5c0-b603f7479cf0"
      },
      "outputs": [
        {
          "name": "stdout",
          "output_type": "stream",
          "text": [
            "Table status: Booked\n"
          ]
        }
      ],
      "source": [
        "# Call the CheckBooking procedure with the provided parameters\n",
        "cursor.callproc('CheckBooking', ('2022-11-12', 3))\n",
        "\n",
        "# Fetch the result\n",
        "for result in cursor.stored_results():\n",
        "    for row in result.fetchall():\n",
        "        print(\"Table status:\", row[0])"
      ]
    },
    {
      "cell_type": "markdown",
      "source": [
        "## Adding Valid Booking\n",
        "\n",
        "This code creates a stored procedure named \"AddValidBooking6\" in the \"TheRestaurant\" database.\n",
        "\n",
        "- **Procedure Details**:\n",
        "  - Takes booking date, table number, and customer ID as input parameters.\n",
        "  - Checks if the specified table is already booked on the given date.\n",
        "  - If the table is available, inserts the new booking record into the \"Bookings\" table.\n",
        "  - Uses transactions to ensure data integrity:\n",
        "    - Starts a transaction.\n",
        "    - Rolls back the transaction if the table is already booked.\n",
        "    - Commits the transaction after successfully adding the booking.\n",
        "\n",
        "After executing the SQL statement to create the stored procedure, the changes are committed to the database.\n"
      ],
      "metadata": {
        "id": "eFssbBtEP7Ve"
      },
      "id": "eFssbBtEP7Ve"
    },
    {
      "cell_type": "code",
      "execution_count": null,
      "id": "75d0bec6",
      "metadata": {
        "id": "75d0bec6"
      },
      "outputs": [],
      "source": [
        "AddValidBooking=\"\"\"CREATE PROCEDURE AddValidBooking6(IN booking_date DATE, IN table_number INT, IN customer_id INT)\n",
        "BEGIN\n",
        "    DECLARE booking_exists INT DEFAULT 0;\n",
        "\n",
        "    -- Start a transaction\n",
        "    START TRANSACTION;\n",
        "\n",
        "    -- Check if the table is already booked on the given date\n",
        "    SELECT COUNT(*) INTO booking_exists\n",
        "    FROM Bookings\n",
        "    WHERE BookingDate = booking_date AND TableNumber = table_number;\n",
        "\n",
        "    IF booking_exists > 0 THEN\n",
        "        -- If the table is already booked, rollback the transaction and exit\n",
        "        ROLLBACK;\n",
        "        SELECT 'Table is already booked for the given date.' AS Message;\n",
        "    ELSE\n",
        "        -- If the table is available, insert the new booking record\n",
        "        INSERT INTO Bookings (BookingDate, TableNumber, CustomerID)\n",
        "        VALUES (booking_date, table_number, customer_id);\n",
        "\n",
        "        -- Commit the transaction\n",
        "        COMMIT;\n",
        "        SELECT 'Booking successfully added.' AS Message;\n",
        "    END IF;\n",
        "END;\n",
        "\n",
        "\n",
        "\"\"\"\n",
        "\n",
        "# Execute each SQL statement to create the stored procedures\n",
        "cursor.execute(AddValidBooking)\n",
        "\n",
        "# Commit the transaction\n",
        "connection2.commit()\n"
      ]
    },
    {
      "cell_type": "markdown",
      "source": [
        "## Adding a Valid Booking\n",
        "\n",
        "This code calls the \"AddValidBooking6\" stored procedure to add a booking for a specified date, table number, and customer ID.\n",
        "\n",
        "- **Procedure Call**:\n",
        "  - Calls the \"AddValidBooking6\" stored procedure with a booking date of '2022-12-18', table number 9, and customer ID 8 as input parameters.\n",
        "\n",
        "- **Fetching Result**:\n",
        "  - Fetches the result from the stored procedure call.\n",
        "  - Prints the message returned by the stored procedure.\n",
        "\n",
        "This process adds a booking if the specified table is available for the given date and customer.\n"
      ],
      "metadata": {
        "id": "h5OCOvqnP9f9"
      },
      "id": "h5OCOvqnP9f9"
    },
    {
      "cell_type": "code",
      "execution_count": null,
      "id": "6bb9ac84",
      "metadata": {
        "id": "6bb9ac84",
        "outputId": "dcc76287-88d3-467f-8b59-bcb831d88d00"
      },
      "outputs": [
        {
          "name": "stdout",
          "output_type": "stream",
          "text": [
            "('Booking successfully added.',)\n"
          ]
        }
      ],
      "source": [
        "cursor.callproc('AddValidBooking6', ('2022-12-18', 9, 8))\n",
        "\n",
        "# Fetch the result\n",
        "for result in cursor.stored_results():\n",
        "    for row in result.fetchall():\n",
        "        print(row)"
      ]
    }
  ],
  "metadata": {
    "kernelspec": {
      "display_name": "Python 3 (ipykernel)",
      "language": "python",
      "name": "python3"
    },
    "language_info": {
      "codemirror_mode": {
        "name": "ipython",
        "version": 3
      },
      "file_extension": ".py",
      "mimetype": "text/x-python",
      "name": "python",
      "nbconvert_exporter": "python",
      "pygments_lexer": "ipython3",
      "version": "3.9.16"
    },
    "colab": {
      "provenance": []
    }
  },
  "nbformat": 4,
  "nbformat_minor": 5
}