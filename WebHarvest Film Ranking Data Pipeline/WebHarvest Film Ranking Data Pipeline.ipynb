{
  "nbformat": 4,
  "nbformat_minor": 0,
  "metadata": {
    "colab": {
      "provenance": []
    },
    "kernelspec": {
      "name": "python3",
      "display_name": "Python 3"
    },
    "language_info": {
      "name": "python"
    }
  },
  "cells": [
    {
      "cell_type": "code",
      "execution_count": 1,
      "metadata": {
        "id": "6tU8dZQP-Pyw"
      },
      "outputs": [],
      "source": [
        "import requests\n",
        "import sqlite3\n",
        "import pandas as pd\n",
        "from bs4 import BeautifulSoup"
      ]
    },
    {
      "cell_type": "markdown",
      "source": [
        "# Web Scraping and DataFrame Creation\n",
        "\n",
        "## Objective:\n",
        "The objective of this code is to scrape data from a webpage and create a DataFrame containing information about the top 50 highly-ranked films.\n",
        "\n",
        "## Code Explanation:\n",
        "\n",
        "1. **URL Definition:**\n",
        "   - The URL variable holds the web address from which data will be scraped. It points to a specific archived webpage containing information about highly-ranked films.\n",
        "\n",
        "2. **Database and Table Names:**\n",
        "   - `db_name` specifies the name of the database where the scraped data will be stored.\n",
        "   - `table_name` specifies the name of the table within the database.\n",
        "\n",
        "3. **DataFrame Initialization:**\n",
        "   - A DataFrame (`df`) is initialized with three columns: \"Average Rank\", \"Film\", and \"Year\". This DataFrame will store the scraped data.\n",
        "\n",
        "4. **Web Scraping:**\n",
        "   - The code uses the `requests` library to fetch the HTML content of the specified URL.\n",
        "   - `BeautifulSoup` is used to parse the HTML content.\n",
        "   - The code then finds all the `<tbody>` elements (tables) in the parsed HTML.\n",
        "\n",
        "5. **Data Extraction:**\n",
        "   - It iterates through the rows (`<tr>`) of the first table found (assuming it contains the desired data).\n",
        "   - For each row, if the count is less than 50 (to limit to the top 50 films), it extracts the data from the columns (`<td>`).\n",
        "   - Extracted data (average rank, film name, and year) are stored in a dictionary.\n",
        "   - The dictionary is converted into a DataFrame (`df1`) and concatenated with the main DataFrame (`df`).\n",
        "   - The count is incremented until 50 rows are processed.\n",
        "\n",
        "6. **Printing the DataFrame:**\n",
        "   - Finally, the code prints the DataFrame containing the scraped data.\n",
        "\n",
        "## Output:\n",
        "The output of this code is a DataFrame (`df`) containing information about the top 50 highly-ranked films, including their average rank, film name, and year.\n"
      ],
      "metadata": {
        "id": "tFAWl358_XNE"
      }
    },
    {
      "cell_type": "code",
      "source": [
        "url = 'https://web.archive.org/web/20230902185655/https://en.everybodywiki.com/100_Most_Highly-Ranked_Films'\n",
        "db_name = 'Movies.db'\n",
        "table_name = 'Top_50'\n",
        "df = pd.DataFrame(columns=[\"Average Rank\",\"Film\",\"Year\"])\n",
        "count = 0\n",
        "html_page = requests.get(url).text\n",
        "data = BeautifulSoup(html_page, 'html.parser')\n",
        "tables = data.find_all('tbody')\n",
        "rows = tables[0].find_all('tr')\n",
        "for row in rows:\n",
        "    if count<50:\n",
        "        col = row.find_all('td')\n",
        "        if len(col)!=0:\n",
        "            data_dict = {\"Average Rank\": col[0].contents[0],\n",
        "                         \"Film\": col[1].contents[0],\n",
        "                         \"Year\": col[2].contents[0]}\n",
        "            df1 = pd.DataFrame(data_dict, index=[0])\n",
        "            df = pd.concat([df,df1], ignore_index=True)\n",
        "            count+=1\n",
        "    else:\n",
        "        break\n",
        "\n",
        "print(df)\n"
      ],
      "metadata": {
        "colab": {
          "base_uri": "https://localhost:8080/"
        },
        "id": "hP36klgI-ljq",
        "outputId": "8de63ff1-d92f-47fb-cd42-37fe9393e4e4"
      },
      "execution_count": 3,
      "outputs": [
        {
          "output_type": "stream",
          "name": "stdout",
          "text": [
            "   Average Rank                                           Film  Year\n",
            "0             1                                  The Godfather  1972\n",
            "1             2                                   Citizen Kane  1941\n",
            "2             3                                     Casablanca  1942\n",
            "3             4                         The Godfather, Part II  1974\n",
            "4             5                            Singin' in the Rain  1952\n",
            "5             6                                         Psycho  1960\n",
            "6             7                                    Rear Window  1954\n",
            "7             8                                 Apocalypse Now  1979\n",
            "8             9                          2001: A Space Odyssey  1968\n",
            "9            10                                  Seven Samurai  1954\n",
            "10           11                                        Vertigo  1958\n",
            "11           12                                    Sunset Blvd  1950\n",
            "12           13                                   Modern Times  1936\n",
            "13           14                             Lawrence of Arabia  1962\n",
            "14           15                             North by Northwest  1959\n",
            "15           16                                      Star Wars  1977\n",
            "16           17                                       Parasite  2019\n",
            "17           18                               Schindler's List  1993\n",
            "18           19  Lord of the Rings: The Fellowship of the Ring  2001\n",
            "19           20                           Shawshank Redemption  1994\n",
            "20           21                          It's a Wonderful Life  1946\n",
            "21           22                                   Pulp Fiction  1994\n",
            "22           23                              Avengers: Endgame  2019\n",
            "23           24                                    City Lights  1931\n",
            "24           25                One Flew Over the Cuckoo's Nest  1975\n",
            "25           26                                     Goodfellas  1990\n",
            "26           27                        Raiders of the Lost Ark  1981\n",
            "27           28                                   12 Angry Men  1957\n",
            "28           29                       The Silence of the Lambs  1991\n",
            "29           30                                    Taxi Driver  1976\n",
            "30           31                            Saving Private Ryan  1998\n",
            "31           32                     E.T. the Extra Terrestrial  1982\n",
            "32           33                                          Alien  1979\n",
            "33           34              Spider-Man: Into the Spider-verse  2018\n",
            "34           35                                   Blade Runner  1982\n",
            "35           36                               Double Indemnity  1944\n",
            "36           37                                The Dark Knight  2008\n",
            "37           38                               The Wizard of Oz  1939\n",
            "38           39  Star Wars: Episode V- The Empire Strikes Back  1980\n",
            "39           40                                  The Searchers  1956\n",
            "40           41                             Mad Max: Fury Road  2015\n",
            "41           42                                      Inception  2010\n",
            "42           43          Lord of the Rings: Return of the King  2003\n",
            "43           44                                     The Matrix  1999\n",
            "44           45                                     Fight Club  1999\n",
            "45           46                             Back to the Future  1985\n",
            "46           47                          It Happened One Night  1934\n",
            "47           48                The Good, the Bad, and the Ugly  1966\n",
            "48           49              Lord of the Rings: The Two Towers  2002\n",
            "49           50                                  All About Eve  1950\n"
          ]
        }
      ]
    }
  ]
}